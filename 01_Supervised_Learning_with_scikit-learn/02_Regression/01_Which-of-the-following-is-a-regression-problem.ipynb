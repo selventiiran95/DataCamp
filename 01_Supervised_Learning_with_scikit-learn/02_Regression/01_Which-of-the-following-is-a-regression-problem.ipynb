{
 "cells": [
  {
   "cell_type": "markdown",
   "metadata": {},
   "source": [
    "## Which of the following is a regression problem?\n",
    "Andy introduced regression to you using the Boston housing dataset. But regression models can be used in a variety of contexts to solve a variety of different problems.\n",
    "\n",
    "Given below are four example applications of machine learning. Your job is to pick the one that is best framed as a **regression** problem.\n",
    "\n",
    "\n",
    "### Possible Answers\n",
    "* An e-commerce company using labeled customer data to predict whether or not a customer will purchase a particular item.\n",
    "* A healthcare company using data about cancer tumors (such as their geometric measurements) to predict whether a new tumor is benign or malignant.\n",
    "* A restaurant using review data to ascribe positive or negative sentiment to a given review.\n",
    "* A bike share company using time and weather data to predict the number of bikes being rented at any given hour. **ANSWER**"
   ]
  }
 ],
 "metadata": {
  "hide_input": false,
  "kernelspec": {
   "display_name": "Python 3",
   "language": "python",
   "name": "python3"
  },
  "language_info": {
   "codemirror_mode": {
    "name": "ipython",
    "version": 3
   },
   "file_extension": ".py",
   "mimetype": "text/x-python",
   "name": "python",
   "nbconvert_exporter": "python",
   "pygments_lexer": "ipython3",
   "version": "3.7.4"
  },
  "toc": {
   "base_numbering": 1,
   "nav_menu": {},
   "number_sections": false,
   "sideBar": true,
   "skip_h1_title": false,
   "title_cell": "Table of Contents",
   "title_sidebar": "Contents",
   "toc_cell": false,
   "toc_position": {},
   "toc_section_display": true,
   "toc_window_display": true
  }
 },
 "nbformat": 4,
 "nbformat_minor": 2
}
