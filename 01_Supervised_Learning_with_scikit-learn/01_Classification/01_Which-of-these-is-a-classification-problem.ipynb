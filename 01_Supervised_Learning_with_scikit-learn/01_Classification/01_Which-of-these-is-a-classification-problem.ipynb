{
 "cells": [
  {
   "cell_type": "markdown",
   "metadata": {},
   "source": [
    "## Which of these is a classification problem?\n",
    "Once you decide to leverage supervised machine learning to solve a new problem, you need to identify whether your problem is better suited to classification or regression. This exercise will help you develop your intuition for distinguishing between the two.\n",
    "\n",
    "Provided below are 4 example applications of machine learning. Which of them is a supervised classification problem?\n",
    "\n",
    "### Possible Answers\n",
    "* Using labeled financial data to predict whether the value of a stock will go up or go down next week. **ANSWER**\n",
    "* Using labeled housing price data to predict the price of a new house based on various features.\n",
    "* Using unlabeled data to cluster the students of an online education company into different categories based on their learning styles. \n",
    "* Using labeled financial data to predict what the value of a stock will be next week.\n"
   ]
  }
 ],
 "metadata": {
  "hide_input": false,
  "kernelspec": {
   "display_name": "Python 3",
   "language": "python",
   "name": "python3"
  },
  "language_info": {
   "codemirror_mode": {
    "name": "ipython",
    "version": 3
   },
   "file_extension": ".py",
   "mimetype": "text/x-python",
   "name": "python",
   "nbconvert_exporter": "python",
   "pygments_lexer": "ipython3",
   "version": "3.7.4"
  },
  "toc": {
   "base_numbering": 1,
   "nav_menu": {},
   "number_sections": false,
   "sideBar": true,
   "skip_h1_title": false,
   "title_cell": "Table of Contents",
   "title_sidebar": "Contents",
   "toc_cell": false,
   "toc_position": {},
   "toc_section_display": true,
   "toc_window_display": true
  }
 },
 "nbformat": 4,
 "nbformat_minor": 2
}
